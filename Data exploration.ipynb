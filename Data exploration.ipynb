{
 "cells": [
  {
   "cell_type": "markdown",
   "metadata": {},
   "source": [
    "## Movie Recommendation using Netflix data\n",
    "\n",
    "The goal of our project will be to build a movie recommender based on the Netflix Prize data. In this first notebook we will be loading, exploring and cleaning our dataset so that we can use it later."
   ]
  },
  {
   "cell_type": "code",
   "execution_count": 1,
   "metadata": {},
   "outputs": [],
   "source": [
    "import pandas as pd\n",
    "import numpy as np\n",
    "import math\n",
    "import re\n",
    "from scipy.sparse import csr_matrix\n",
    "import matplotlib.pyplot as plt\n",
    "%matplotlib inline"
   ]
  },
  {
   "cell_type": "code",
   "execution_count": 2,
   "metadata": {},
   "outputs": [],
   "source": [
    "# Load dataset (Here we only the first third of the data, there are two more files, but for the preparation purposes\n",
    "# we are loading only one. This speeds things up considerably.)\n",
    "df1 = pd.read_csv('combined_data_1.txt', header = None, names = ['User_Id', 'Rating'], usecols = [0,1])\n",
    "\n",
    "df = df1"
   ]
  },
  {
   "cell_type": "markdown",
   "metadata": {},
   "source": [
    "####  Quick visualisation of the data.\n",
    "Data is currently structured as follows:\n",
    "ID of movie followed by user ratings of this movie. \n",
    "In these first five lines we see 4 ratings, respectively 3, 5, 4 and 4 out of 5 stars for the movie with ID=1.\n",
    "We will transform this structure so that instead of having the movie ID as a line, we have it as an additional column"
   ]
  },
  {
   "cell_type": "code",
   "execution_count": 3,
   "metadata": {},
   "outputs": [
    {
     "data": {
      "text/html": [
       "<div>\n",
       "<style scoped>\n",
       "    .dataframe tbody tr th:only-of-type {\n",
       "        vertical-align: middle;\n",
       "    }\n",
       "\n",
       "    .dataframe tbody tr th {\n",
       "        vertical-align: top;\n",
       "    }\n",
       "\n",
       "    .dataframe thead th {\n",
       "        text-align: right;\n",
       "    }\n",
       "</style>\n",
       "<table border=\"1\" class=\"dataframe\">\n",
       "  <thead>\n",
       "    <tr style=\"text-align: right;\">\n",
       "      <th></th>\n",
       "      <th>User_Id</th>\n",
       "      <th>Rating</th>\n",
       "    </tr>\n",
       "  </thead>\n",
       "  <tbody>\n",
       "    <tr>\n",
       "      <th>0</th>\n",
       "      <td>1:</td>\n",
       "      <td>NaN</td>\n",
       "    </tr>\n",
       "    <tr>\n",
       "      <th>1</th>\n",
       "      <td>1488844</td>\n",
       "      <td>3.0</td>\n",
       "    </tr>\n",
       "    <tr>\n",
       "      <th>2</th>\n",
       "      <td>822109</td>\n",
       "      <td>5.0</td>\n",
       "    </tr>\n",
       "    <tr>\n",
       "      <th>3</th>\n",
       "      <td>885013</td>\n",
       "      <td>4.0</td>\n",
       "    </tr>\n",
       "    <tr>\n",
       "      <th>4</th>\n",
       "      <td>30878</td>\n",
       "      <td>4.0</td>\n",
       "    </tr>\n",
       "  </tbody>\n",
       "</table>\n",
       "</div>"
      ],
      "text/plain": [
       "   User_Id  Rating\n",
       "0       1:     NaN\n",
       "1  1488844     3.0\n",
       "2   822109     5.0\n",
       "3   885013     4.0\n",
       "4    30878     4.0"
      ]
     },
     "execution_count": 3,
     "metadata": {},
     "output_type": "execute_result"
    }
   ],
   "source": [
    "df1.head() # "
   ]
  },
  {
   "cell_type": "markdown",
   "metadata": {},
   "source": [
    "## Clean Data and Transform Movie Id's from row value to column"
   ]
  },
  {
   "cell_type": "code",
   "execution_count": 4,
   "metadata": {},
   "outputs": [
    {
     "name": "stderr",
     "output_type": "stream",
     "text": [
      "/home/cernewein/anaconda3/lib/python3.6/site-packages/pandas/core/indexing.py:362: SettingWithCopyWarning: \n",
      "A value is trying to be set on a copy of a slice from a DataFrame.\n",
      "Try using .loc[row_indexer,col_indexer] = value instead\n",
      "\n",
      "See the caveats in the documentation: http://pandas.pydata.org/pandas-docs/stable/indexing.html#indexing-view-versus-copy\n",
      "  self.obj[key] = _infer_fill_value(value)\n",
      "/home/cernewein/anaconda3/lib/python3.6/site-packages/pandas/core/indexing.py:543: SettingWithCopyWarning: \n",
      "A value is trying to be set on a copy of a slice from a DataFrame.\n",
      "Try using .loc[row_indexer,col_indexer] = value instead\n",
      "\n",
      "See the caveats in the documentation: http://pandas.pydata.org/pandas-docs/stable/indexing.html#indexing-view-versus-copy\n",
      "  self.obj[item] = s\n"
     ]
    },
    {
     "data": {
      "text/html": [
       "<div>\n",
       "<style scoped>\n",
       "    .dataframe tbody tr th:only-of-type {\n",
       "        vertical-align: middle;\n",
       "    }\n",
       "\n",
       "    .dataframe tbody tr th {\n",
       "        vertical-align: top;\n",
       "    }\n",
       "\n",
       "    .dataframe thead th {\n",
       "        text-align: right;\n",
       "    }\n",
       "</style>\n",
       "<table border=\"1\" class=\"dataframe\">\n",
       "  <thead>\n",
       "    <tr style=\"text-align: right;\">\n",
       "      <th></th>\n",
       "      <th>User_Id</th>\n",
       "      <th>Rating</th>\n",
       "      <th>Movie_Id</th>\n",
       "    </tr>\n",
       "  </thead>\n",
       "  <tbody>\n",
       "    <tr>\n",
       "      <th>1</th>\n",
       "      <td>1488844</td>\n",
       "      <td>3.0</td>\n",
       "      <td>1</td>\n",
       "    </tr>\n",
       "    <tr>\n",
       "      <th>2</th>\n",
       "      <td>822109</td>\n",
       "      <td>5.0</td>\n",
       "      <td>1</td>\n",
       "    </tr>\n",
       "    <tr>\n",
       "      <th>3</th>\n",
       "      <td>885013</td>\n",
       "      <td>4.0</td>\n",
       "      <td>1</td>\n",
       "    </tr>\n",
       "    <tr>\n",
       "      <th>4</th>\n",
       "      <td>30878</td>\n",
       "      <td>4.0</td>\n",
       "      <td>1</td>\n",
       "    </tr>\n",
       "    <tr>\n",
       "      <th>5</th>\n",
       "      <td>823519</td>\n",
       "      <td>3.0</td>\n",
       "      <td>1</td>\n",
       "    </tr>\n",
       "  </tbody>\n",
       "</table>\n",
       "</div>"
      ],
      "text/plain": [
       "   User_Id  Rating  Movie_Id\n",
       "1  1488844     3.0         1\n",
       "2   822109     5.0         1\n",
       "3   885013     4.0         1\n",
       "4    30878     4.0         1\n",
       "5   823519     3.0         1"
      ]
     },
     "execution_count": 4,
     "metadata": {},
     "output_type": "execute_result"
    }
   ],
   "source": [
    "# Remove rows were there is no rating\n",
    "df_nan = pd.DataFrame(pd.isnull(df.Rating))\n",
    "df_nan = df_nan[df_nan['Rating'] == True]\n",
    "df_nan = df_nan.reset_index()\n",
    "\n",
    "movie_np = []\n",
    "movie_id = 1\n",
    "\n",
    "for i,j in zip(df_nan['index'][1:],df_nan['index'][:-1]):\n",
    "    temp = np.full((1,i-j-1), movie_id)\n",
    "    movie_np = np.append(movie_np, temp)\n",
    "    movie_id += 1\n",
    "\n",
    "# Account for last record and corresponding length\n",
    "\n",
    "last_record = np.full((1,len(df) - df_nan.iloc[-1, 0] - 1),movie_id)\n",
    "movie_np = np.append(movie_np, last_record)\n",
    "\n",
    "# remove those Movie ID rows\n",
    "df = df[pd.notnull(df['Rating'])]\n",
    "\n",
    "df.loc[:,'Movie_Id'] = movie_np.astype(int)\n",
    "df.loc[:,'User_Id'] = df['User_Id'].astype(int)\n",
    "df.head()"
   ]
  },
  {
   "cell_type": "markdown",
   "metadata": {},
   "source": [
    "## Statistics"
   ]
  },
  {
   "cell_type": "markdown",
   "metadata": {},
   "source": [
    "Below are the number of unique movies and the number of unique users. For our purposes it is good to have as many ratings per movie and ratings per user as possible"
   ]
  },
  {
   "cell_type": "code",
   "execution_count": 7,
   "metadata": {},
   "outputs": [
    {
     "data": {
      "text/plain": [
       "4499"
      ]
     },
     "execution_count": 7,
     "metadata": {},
     "output_type": "execute_result"
    }
   ],
   "source": [
    "len(df['Movie_Id'].unique()) # Number of movies"
   ]
  },
  {
   "cell_type": "code",
   "execution_count": 8,
   "metadata": {},
   "outputs": [
    {
     "data": {
      "text/plain": [
       "470758"
      ]
     },
     "execution_count": 8,
     "metadata": {},
     "output_type": "execute_result"
    }
   ],
   "source": [
    "len(df['User_Id'].unique()) # Number of users"
   ]
  },
  {
   "cell_type": "markdown",
   "metadata": {},
   "source": [
    "Next we are looking at the number of ratings per movie, as can be seen in the next cell, there are huge differences between the number of ratings from one movie to another. This difference can be as big as 3 orders of magnitude. The ratings aren't well distributed amongst the movies, this might have an impact on our model."
   ]
  },
  {
   "cell_type": "code",
   "execution_count": 12,
   "metadata": {
    "scrolled": true
   },
   "outputs": [
    {
     "data": {
      "text/plain": [
       "Movie_Id\n",
       "1          547\n",
       "2          145\n",
       "3         2012\n",
       "4          142\n",
       "5         1140\n",
       "6         1019\n",
       "7           93\n",
       "8        14910\n",
       "9           95\n",
       "10         249\n",
       "11         198\n",
       "12         546\n",
       "13         125\n",
       "14         118\n",
       "15         290\n",
       "16        2699\n",
       "17        7108\n",
       "18       10722\n",
       "19         539\n",
       "20         116\n",
       "21         218\n",
       "22         203\n",
       "23         615\n",
       "24        1333\n",
       "25        1207\n",
       "26        5861\n",
       "27         273\n",
       "28       39752\n",
       "29         523\n",
       "30      118413\n",
       "         ...  \n",
       "4470       416\n",
       "4471       105\n",
       "4472    101118\n",
       "4473       541\n",
       "4474      4241\n",
       "4475       101\n",
       "4476       566\n",
       "4477       276\n",
       "4478      2551\n",
       "4479     23884\n",
       "4480       172\n",
       "4481       224\n",
       "4482      1639\n",
       "4483      1032\n",
       "4484      1276\n",
       "4485      3180\n",
       "4486       193\n",
       "4487       118\n",
       "4488     33175\n",
       "4489      1404\n",
       "4490     10258\n",
       "4491       453\n",
       "4492      9353\n",
       "4493      6381\n",
       "4494       130\n",
       "4495       614\n",
       "4496      9519\n",
       "4497       714\n",
       "4498       269\n",
       "4499       428\n",
       "Name: Rating, Length: 4499, dtype: int64"
      ]
     },
     "execution_count": 12,
     "metadata": {},
     "output_type": "execute_result"
    }
   ],
   "source": [
    "df.groupby('Movie_Id').count()['Rating']"
   ]
  },
  {
   "cell_type": "markdown",
   "metadata": {},
   "source": [
    "Below we compute the mean rating per movie. We again notice some big variations in between movies; the worst movie is rated under 1.5 on average while the best movie is rated over 4.5"
   ]
  },
  {
   "cell_type": "code",
   "execution_count": 17,
   "metadata": {
    "scrolled": true
   },
   "outputs": [
    {
     "name": "stdout",
     "output_type": "stream",
     "text": [
      "Movie_Id\n",
      "1       3.749543\n",
      "2       3.558621\n",
      "3       3.641153\n",
      "4       2.739437\n",
      "5       3.919298\n",
      "6       3.084396\n",
      "7       2.129032\n",
      "8       3.189805\n",
      "9       2.621053\n",
      "10      3.180723\n",
      "11      3.030303\n",
      "12      3.417582\n",
      "13      4.552000\n",
      "14      3.025424\n",
      "15      3.286207\n",
      "16      3.098555\n",
      "17      2.903208\n",
      "18      3.784369\n",
      "19      3.324675\n",
      "20      3.146552\n",
      "21      3.463303\n",
      "22      2.246305\n",
      "23      3.556098\n",
      "24      2.993998\n",
      "25      3.970174\n",
      "26      2.793721\n",
      "27      3.527473\n",
      "28      3.823254\n",
      "29      3.598470\n",
      "30      3.761842\n",
      "          ...   \n",
      "4470    3.689904\n",
      "4471    2.942857\n",
      "4472    3.693833\n",
      "4473    3.042514\n",
      "4474    3.225654\n",
      "4475    3.148515\n",
      "4476    3.876325\n",
      "4477    3.724638\n",
      "4478    3.650333\n",
      "4479    3.736853\n",
      "4480    3.447674\n",
      "4481    3.254464\n",
      "4482    2.788896\n",
      "4483    3.336240\n",
      "4484    4.003918\n",
      "4485    3.453145\n",
      "4486    2.839378\n",
      "4487    2.203390\n",
      "4488    3.554906\n",
      "4489    3.502849\n",
      "4490    3.168746\n",
      "4491    3.150110\n",
      "4492    2.643323\n",
      "4493    3.135089\n",
      "4494    2.584615\n",
      "4495    3.478827\n",
      "4496    3.763000\n",
      "4497    2.715686\n",
      "4498    2.464684\n",
      "4499    2.614486\n",
      "Name: Rating, Length: 4499, dtype: float64\n",
      "1.2878787878787878\n",
      "4.6709891019450955\n"
     ]
    }
   ],
   "source": [
    "mean_rating = df.groupby('Movie_Id').mean()['Rating']\n",
    "print(mean_rating)\n",
    "print(min(mean_rating))\n",
    "print(max(mean_rating))"
   ]
  },
  {
   "cell_type": "markdown",
   "metadata": {},
   "source": [
    "Number of ratings per user. Here we notice that some users have made over 200 ratings (one user apparently rated over 4000 movies !!), while others have only rated 1 movie. From these people that rated only one movie it will probably be harder to get any insights"
   ]
  },
  {
   "cell_type": "code",
   "execution_count": 19,
   "metadata": {
    "scrolled": true
   },
   "outputs": [
    {
     "name": "stdout",
     "output_type": "stream",
     "text": [
      "User_Id\n",
      "6          153\n",
      "7          195\n",
      "8           21\n",
      "10          49\n",
      "25           4\n",
      "33          11\n",
      "42          36\n",
      "59          49\n",
      "79         197\n",
      "83          10\n",
      "87          50\n",
      "94          27\n",
      "97         117\n",
      "116         45\n",
      "126         15\n",
      "130          8\n",
      "131         36\n",
      "133          1\n",
      "134        169\n",
      "142         13\n",
      "149          5\n",
      "158         14\n",
      "164         25\n",
      "168          7\n",
      "169         68\n",
      "177          5\n",
      "178          5\n",
      "183         61\n",
      "188        129\n",
      "189          4\n",
      "          ... \n",
      "2649267    210\n",
      "2649268      7\n",
      "2649285    233\n",
      "2649288     55\n",
      "2649296    177\n",
      "2649299     39\n",
      "2649308    143\n",
      "2649311     48\n",
      "2649323     35\n",
      "2649326      5\n",
      "2649328     76\n",
      "2649331     59\n",
      "2649335     87\n",
      "2649336     85\n",
      "2649337      9\n",
      "2649343      1\n",
      "2649351     24\n",
      "2649370     64\n",
      "2649375     36\n",
      "2649376     34\n",
      "2649378     72\n",
      "2649379      2\n",
      "2649384      7\n",
      "2649388     77\n",
      "2649401     30\n",
      "2649404     12\n",
      "2649409     10\n",
      "2649421      3\n",
      "2649426     74\n",
      "2649429     62\n",
      "Name: Rating, Length: 470758, dtype: int64\n",
      "1\n",
      "4467\n"
     ]
    }
   ],
   "source": [
    "user_ratings = df.groupby('User_Id').count()['Rating']\n",
    "print(user_ratings)\n",
    "print(min(user_ratings))\n",
    "print(max(user_ratings))"
   ]
  },
  {
   "cell_type": "code",
   "execution_count": 20,
   "metadata": {
    "scrolled": true
   },
   "outputs": [
    {
     "name": "stdout",
     "output_type": "stream",
     "text": [
      "User_Id\n",
      "6          3.333333\n",
      "7          4.066667\n",
      "8          4.000000\n",
      "10         3.346939\n",
      "25         3.500000\n",
      "33         3.454545\n",
      "42         3.944444\n",
      "59         4.040816\n",
      "79         3.507614\n",
      "83         4.500000\n",
      "87         3.640000\n",
      "94         3.407407\n",
      "97         3.230769\n",
      "116        4.111111\n",
      "126        4.800000\n",
      "130        4.375000\n",
      "131        3.000000\n",
      "133        3.000000\n",
      "134        4.745562\n",
      "142        3.538462\n",
      "149        4.600000\n",
      "158        3.500000\n",
      "164        3.640000\n",
      "168        4.571429\n",
      "169        3.720588\n",
      "177        3.400000\n",
      "178        3.400000\n",
      "183        3.688525\n",
      "188        3.418605\n",
      "189        4.500000\n",
      "             ...   \n",
      "2649267    3.800000\n",
      "2649268    4.714286\n",
      "2649285    3.072961\n",
      "2649288    4.018182\n",
      "2649296    3.333333\n",
      "2649299    4.076923\n",
      "2649308    3.811189\n",
      "2649311    4.104167\n",
      "2649323    3.285714\n",
      "2649326    2.400000\n",
      "2649328    3.723684\n",
      "2649331    3.864407\n",
      "2649335    4.045977\n",
      "2649336    3.482353\n",
      "2649337    4.333333\n",
      "2649343    4.000000\n",
      "2649351    4.291667\n",
      "2649370    3.828125\n",
      "2649375    4.138889\n",
      "2649376    3.911765\n",
      "2649378    3.236111\n",
      "2649379    4.500000\n",
      "2649384    3.285714\n",
      "2649388    3.337662\n",
      "2649401    3.933333\n",
      "2649404    4.083333\n",
      "2649409    4.000000\n",
      "2649421    5.000000\n",
      "2649426    4.067568\n",
      "2649429    4.161290\n",
      "Name: Rating, Length: 470758, dtype: float64\n",
      "1.0\n",
      "5.0\n"
     ]
    }
   ],
   "source": [
    "mean_rating_user = df.groupby('User_Id').mean()['Rating']\n",
    "print(mean_rating_user)\n",
    "print(min(mean_rating_user))\n",
    "print(max(mean_rating_user))"
   ]
  },
  {
   "cell_type": "markdown",
   "metadata": {},
   "source": [
    "## Visualisations"
   ]
  },
  {
   "cell_type": "code",
   "execution_count": 9,
   "metadata": {},
   "outputs": [
    {
     "data": {
      "text/plain": [
       "(array([ 547.,  145., 2012., ..., 9519.,  714.,  697.]),\n",
       " array([   1,    2,    3, ..., 4497, 4498, 4499]),\n",
       " <a list of 4498 Patch objects>)"
      ]
     },
     "execution_count": 9,
     "metadata": {},
     "output_type": "execute_result"
    },
    {
     "data": {
      "image/png": "[encoded data removed]",
      "text/plain": [
       "<Figure size 432x288 with 1 Axes>"
      ]
     },
     "metadata": {
      "needs_background": "light"
     },
     "output_type": "display_data"
    }
   ],
   "source": [
    "plt.hist(df['Movie_Id'], bins = list(df['Movie_Id'].unique()))"
   ]
  },
  {
   "cell_type": "code",
   "execution_count": 16,
   "metadata": {},
   "outputs": [
    {
     "data": {
      "text/plain": [
       "[<matplotlib.lines.Line2D at 0x7f6178247828>]"
      ]
     },
     "execution_count": 16,
     "metadata": {},
     "output_type": "execute_result"
    },
    {
     "data": {
      "image/png": "[encoded data removed]",
      "text/plain": [
       "<Figure size 432x288 with 1 Axes>"
      ]
     },
     "metadata": {
      "needs_background": "light"
     },
     "output_type": "display_data"
    }
   ],
   "source": [
    "plt.plot(mean_rating.index,mean_rating.values)"
   ]
  },
  {
   "cell_type": "markdown",
   "metadata": {},
   "source": [
    "Here we take a look at the number of ratings per value of rating, ie the number of ratings 1, ratings 2 etc..\n",
    "We notice that overall the rating of the movies seems to be neutral to positive"
   ]
  },
  {
   "cell_type": "code",
   "execution_count": 26,
   "metadata": {},
   "outputs": [
    {
     "name": "stdout",
     "output_type": "stream",
     "text": [
      "Rating\n",
      "1.0    0.046487\n",
      "2.0    0.101401\n",
      "3.0    0.287031\n",
      "4.0    0.336153\n",
      "5.0    0.228928\n",
      "Name: User_Id, dtype: float64\n"
     ]
    },
    {
     "data": {
      "text/plain": [
       "<BarContainer object of 5 artists>"
      ]
     },
     "execution_count": 26,
     "metadata": {},
     "output_type": "execute_result"
    },
    {
     "data": {
      "image/png": "[encoded data removed]",
      "text/plain": [
       "<Figure size 432x288 with 1 Axes>"
      ]
     },
     "metadata": {
      "needs_background": "light"
     },
     "output_type": "display_data"
    }
   ],
   "source": [
    "number_per_rating = df.groupby('Rating').count()['User_Id']\n",
    "print(number_per_rating/len(df))\n",
    "plt.bar(number_per_rating.index,number_per_rating.values/len(df))"
   ]
  },
  {
   "cell_type": "markdown",
   "metadata": {},
   "source": [
    "# Auxiliary dataset: movie titles with years\n",
    "\n",
    "We also have another dataset, being the movie Ids with associated title and the year the movie was released. The release year could be an interesting feature to add to our analysis"
   ]
  },
  {
   "cell_type": "code",
   "execution_count": 27,
   "metadata": {},
   "outputs": [
    {
     "data": {
      "text/html": [
       "<div>\n",
       "<style scoped>\n",
       "    .dataframe tbody tr th:only-of-type {\n",
       "        vertical-align: middle;\n",
       "    }\n",
       "\n",
       "    .dataframe tbody tr th {\n",
       "        vertical-align: top;\n",
       "    }\n",
       "\n",
       "    .dataframe thead th {\n",
       "        text-align: right;\n",
       "    }\n",
       "</style>\n",
       "<table border=\"1\" class=\"dataframe\">\n",
       "  <thead>\n",
       "    <tr style=\"text-align: right;\">\n",
       "      <th></th>\n",
       "      <th>Movie_Id</th>\n",
       "      <th>Year</th>\n",
       "      <th>Name</th>\n",
       "    </tr>\n",
       "  </thead>\n",
       "  <tbody>\n",
       "    <tr>\n",
       "      <th>0</th>\n",
       "      <td>1</td>\n",
       "      <td>2003.0</td>\n",
       "      <td>Dinosaur Planet</td>\n",
       "    </tr>\n",
       "    <tr>\n",
       "      <th>1</th>\n",
       "      <td>2</td>\n",
       "      <td>2004.0</td>\n",
       "      <td>Isle of Man TT 2004 Review</td>\n",
       "    </tr>\n",
       "    <tr>\n",
       "      <th>2</th>\n",
       "      <td>3</td>\n",
       "      <td>1997.0</td>\n",
       "      <td>Character</td>\n",
       "    </tr>\n",
       "    <tr>\n",
       "      <th>3</th>\n",
       "      <td>4</td>\n",
       "      <td>1994.0</td>\n",
       "      <td>Paula Abdul's Get Up &amp; Dance</td>\n",
       "    </tr>\n",
       "    <tr>\n",
       "      <th>4</th>\n",
       "      <td>5</td>\n",
       "      <td>2004.0</td>\n",
       "      <td>The Rise and Fall of ECW</td>\n",
       "    </tr>\n",
       "  </tbody>\n",
       "</table>\n",
       "</div>"
      ],
      "text/plain": [
       "   Movie_Id    Year                          Name\n",
       "0         1  2003.0               Dinosaur Planet\n",
       "1         2  2004.0    Isle of Man TT 2004 Review\n",
       "2         3  1997.0                     Character\n",
       "3         4  1994.0  Paula Abdul's Get Up & Dance\n",
       "4         5  2004.0      The Rise and Fall of ECW"
      ]
     },
     "execution_count": 27,
     "metadata": {},
     "output_type": "execute_result"
    }
   ],
   "source": [
    "df_title = pd.read_csv('./movie_titles.csv', encoding = \"ISO-8859-1\", header = None, names = ['Movie_Id', 'Year', 'Name'])\n",
    "df_title.head()"
   ]
  },
  {
   "cell_type": "markdown",
   "metadata": {},
   "source": [
    "# Conclusion\n",
    "\n",
    "The dataset is very large, we might have to limit ourselves to movies and users with a certain number of minimum ratings, depending if our computers will be able to handle the dataset with acceptable speed or not.\n",
    "\n",
    "We have been able to find some interesting insights such as the number of ratings per user, per movie, the average rating per user, per movie as well as the number of ratings per rating value.\n",
    "\n",
    "Our goal will be to build a model for recommending the movies, for doing so we could for example try to characterise a person based on the movies he likes (and finding characteristics of the movies, such as the type of the movie: romantic, adventure, thriller..), this would be a first step, where we would only model if a user is likely to like or dislike a movie, we could move further by trying to predict the rating a user would give a specific movie."
   ]
  },
  {
   "cell_type": "code",
   "execution_count": null,
   "metadata": {},
   "outputs": [],
   "source": []
  }
 ],
 "metadata": {
  "kernelspec": {
   "display_name": "Python 3",
   "language": "python",
   "name": "python3"
  },
  "language_info": {
   "codemirror_mode": {
    "name": "ipython",
    "version": 3
   },
   "file_extension": ".py",
   "mimetype": "text/x-python",
   "name": "python",
   "nbconvert_exporter": "python",
   "pygments_lexer": "ipython3",
   "version": "3.6.8"
  }
 },
 "nbformat": 4,
 "nbformat_minor": 2
}
